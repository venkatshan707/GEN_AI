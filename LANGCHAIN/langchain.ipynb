{
 "cells": [
  {
   "cell_type": "code",
   "execution_count": 5,
   "metadata": {},
   "outputs": [],
   "source": [
    "from langchain.llms import OpenAI"
   ]
  },
  {
   "cell_type": "markdown",
   "metadata": {},
   "source": [
    "temperature : more towards 1 you will get more different output, every time you execute the model. If it's 1, you will get more creative a model becames. \n",
    "\n",
    "At the same time it may give wrong answers too. "
   ]
  },
  {
   "cell_type": "code",
   "execution_count": 14,
   "metadata": {},
   "outputs": [],
   "source": [
    "import os\n",
    "#os.environ[\"OPENAI_API_KEY\"]=\"sk-\""
   ]
  },
  {
   "cell_type": "code",
   "execution_count": 15,
   "metadata": {},
   "outputs": [],
   "source": [
    "\n",
    "llm = OpenAI(openai_api_key = os.environ[\"OPENAI_API_kEY\"],  temperature=0.6) "
   ]
  },
  {
   "cell_type": "code",
   "execution_count": 16,
   "metadata": {},
   "outputs": [
    {
     "name": "stdout",
     "output_type": "stream",
     "text": [
      "\n",
      "\n",
      "The capital of India is New Delhi.\n"
     ]
    }
   ],
   "source": [
    "text =\"what is the captial of India?\"\n",
    "print(llm.predict(text))"
   ]
  },
  {
   "cell_type": "code",
   "execution_count": 5,
   "metadata": {},
   "outputs": [],
   "source": [
    "#os.environ[\"HUGGINGFACEHUB_API_TOKEN\"]= \"hf_hDsnVHPNwYQ\""
   ]
  },
  {
   "cell_type": "code",
   "execution_count": 6,
   "metadata": {},
   "outputs": [
    {
     "name": "stderr",
     "output_type": "stream",
     "text": [
      "c:\\Users\\karth\\Documents\\Gen AI\\LANGCHAIN\\venv\\lib\\site-packages\\langchain_core\\_api\\deprecation.py:117: LangChainDeprecationWarning: The class `langchain_community.llms.huggingface_hub.HuggingFaceHub` was deprecated in langchain-community 0.0.21 and will be removed in 0.2.0. Use HuggingFaceEndpoint instead.\n",
      "  warn_deprecated(\n",
      "c:\\Users\\karth\\Documents\\Gen AI\\LANGCHAIN\\venv\\lib\\site-packages\\tqdm\\auto.py:21: TqdmWarning: IProgress not found. Please update jupyter and ipywidgets. See https://ipywidgets.readthedocs.io/en/stable/user_install.html\n",
      "  from .autonotebook import tqdm as notebook_tqdm\n"
     ]
    }
   ],
   "source": [
    "from langchain import HuggingFaceHub\n",
    "llm_huggingface=HuggingFaceHub(repo_id=\"mistralai/Mixtral-8x7B-Instruct-v0.1\",model_kwargs={\"temperature\":0.5,\"max_length\":64})"
   ]
  },
  {
   "cell_type": "code",
   "execution_count": 7,
   "metadata": {},
   "outputs": [
    {
     "name": "stderr",
     "output_type": "stream",
     "text": [
      "c:\\Users\\karth\\Documents\\Gen AI\\LANGCHAIN\\venv\\lib\\site-packages\\langchain_core\\_api\\deprecation.py:117: LangChainDeprecationWarning: The function `predict` was deprecated in LangChain 0.1.7 and will be removed in 0.2.0. Use invoke instead.\n",
      "  warn_deprecated(\n"
     ]
    },
    {
     "name": "stdout",
     "output_type": "stream",
     "text": [
      "can you tell me the captital of tamilnadu?\n",
      "\n",
      "Chennai is the capital of Tamil Nadu.\n",
      "\n",
      "The capital of Tamil Nadu is Chennai, formerly known as Madras. It is the largest city in Tamil Nadu and the fourth largest city in India, with a population of over 8 million people. Chennai is a major cultural, economic, and educational center in South India and is known for its beautiful temples, beaches, and colonial architecture.\n"
     ]
    }
   ],
   "source": [
    "output = llm_huggingface.predict(\"can you tell me the captital of tamilnadu\")\n",
    "print (output)"
   ]
  },
  {
   "cell_type": "markdown",
   "metadata": {},
   "source": [
    "Using LLM Model :google/flan-t5-large giving a single word answer. But when you use Models like OpenAI's GPT 3.5 or 4, you will get output in sentences. So, when you go with opensource models they have their own flaws"
   ]
  },
  {
   "cell_type": "code",
   "execution_count": 8,
   "metadata": {},
   "outputs": [
    {
     "name": "stdout",
     "output_type": "stream",
     "text": [
      "can you write a poem about India?\n",
      "\n",
      "Of course, I'd be happy to write a poem about India! Here it is:\n",
      "\n",
      "India, a land of vibrant hues,\n",
      "Where every corner tells a story anew.\n",
      "From the snow-capped peaks of the Himalayas,\n",
      "To the lush green fields of the Gangetic plains.\n",
      "\n",
      "A land where ancient traditions thrive,\n",
      "And modernity and progress come alive.\n",
      "Where the sounds of temple\n"
     ]
    }
   ],
   "source": [
    "output = llm_huggingface.predict(\"can you write a poem about India?\")\n",
    "print (output)"
   ]
  },
  {
   "cell_type": "markdown",
   "metadata": {},
   "source": [
    "## Prompt Templates and LLM Chain"
   ]
  },
  {
   "cell_type": "markdown",
   "metadata": {},
   "source": [
    "when ever we call a specific LLM model, that LLM Model should know that what kind of input that could probably expect from the client(end user) and what kind of output it can give to client. "
   ]
  },
  {
   "cell_type": "code",
   "execution_count": 9,
   "metadata": {},
   "outputs": [],
   "source": [
    "from langchain.prompts import PromptTemplate"
   ]
  },
  {
   "cell_type": "code",
   "execution_count": 10,
   "metadata": {},
   "outputs": [],
   "source": [
    "prompt_template=PromptTemplate(input_variables=['country'], # There will be the fixed template, in that what i/p we are going to give\n",
    "# Country is an input to the template \n",
    "                               \n",
    "\n",
    "template=\"Tell me the capital of this {country}\") #Template. we are fitting the variable value received from prompt on the template\n",
    "\n",
    "#prompt_template.format(country=\"India\")# The format method works by replacing placeholders, which are defined using curly brackets {}, with the specified values."
   ]
  },
  {
   "cell_type": "code",
   "execution_count": 11,
   "metadata": {},
   "outputs": [],
   "source": [
    "# llm.predict(prompt_template= prompt_template)\n",
    "# we can't simple call the llm.predict like this "
   ]
  },
  {
   "cell_type": "code",
   "execution_count": 12,
   "metadata": {},
   "outputs": [],
   "source": [
    "from langchain.chains import LLMChain"
   ]
  },
  {
   "cell_type": "code",
   "execution_count": 13,
   "metadata": {},
   "outputs": [
    {
     "name": "stderr",
     "output_type": "stream",
     "text": [
      "c:\\Users\\karth\\Documents\\Gen AI\\LANGCHAIN\\venv\\lib\\site-packages\\langchain_core\\_api\\deprecation.py:117: LangChainDeprecationWarning: The function `run` was deprecated in LangChain 0.1.0 and will be removed in 0.2.0. Use invoke instead.\n",
      "  warn_deprecated(\n"
     ]
    },
    {
     "name": "stdout",
     "output_type": "stream",
     "text": [
      "Tell me the capital of this USA state.\n",
      "\n",
      "# States and Capitals 5\n",
      "\n",
      "This is our fifth States and Capitals quiz and it is still a popular subject. The United States of America is a federal republic consisting of 50 states, a federal district (Washington, D.C., the capital city of the United States), five major territories, and various minor islands. The 48 contiguous states and Washington, D.C., are in North America between Canada and Mexico,\n"
     ]
    }
   ],
   "source": [
    "chain = LLMChain(llm= llm_huggingface, prompt=prompt_template)# I am specficing my llm model and prompt_template as parameters to the chain\n",
    "print(chain.run(\"USA\"))"
   ]
  },
  {
   "cell_type": "markdown",
   "metadata": {},
   "source": [
    "## Combining Multiple Chains with Single Sequential Chain"
   ]
  },
  {
   "cell_type": "markdown",
   "metadata": {},
   "source": [
    "Let's I am giving an imput to one chain and the same imput need to be used in some other chains too(3 chains or 10 chains). That time we are "
   ]
  },
  {
   "cell_type": "code",
   "execution_count": 19,
   "metadata": {},
   "outputs": [],
   "source": [
    "capital_template=PromptTemplate(input_variables=['country'],\n",
    "template=\"Please tell me the capital of the {country}\")\n",
    "\n",
    "capital_chain=LLMChain(llm=llm_huggingface,prompt=capital_template)"
   ]
  },
  {
   "cell_type": "code",
   "execution_count": 20,
   "metadata": {},
   "outputs": [],
   "source": [
    "famous_template=PromptTemplate(input_variables=['capital'],\n",
    "template=\"Suggest me some amazing places to visit in {capital}\")\n",
    "\n",
    "famous_chain=LLMChain(llm=llm_huggingface,prompt=famous_template)"
   ]
  },
  {
   "cell_type": "code",
   "execution_count": 21,
   "metadata": {},
   "outputs": [
    {
     "data": {
      "text/plain": [
       "'Suggest me some amazing places to visit in Please tell me the capital of the India.\\n\\nNew Delhi is the capital of India.\\n\\nNew Delhi is the capital of India. It is situated in the north-central part of the country. It is one of the 11 districts of the National Capital Territory of Delhi.\\n\\nNew Delhi, the capital of India, is a city of contrasts. It is a bustling metropolis with a population of over 16 million people, yet it is also home to some of the most beautiful gardens and parks in the country. The city is a mix of modernity and tradition, with gleaming skyscrapers standing alongside ancient temples and monuments.\\n\\nThere are many places to visit in New Delhi, including:\\n\\n1. The Red Fort: This 17th-century fort was the residence of the Mughal emperors for nearly 200 years. It is now a UNESCO World Heritage Site and a popular tourist attraction.\\n'"
      ]
     },
     "execution_count": 21,
     "metadata": {},
     "output_type": "execute_result"
    }
   ],
   "source": [
    "from langchain.chains import SimpleSequentialChain\n",
    "chain=SimpleSequentialChain(chains=[capital_chain,famous_chain])\n",
    "# First capital chain we got output as  New Delhi. That passed to the Second chain and that  explains about that. \n",
    "# \n",
    "chain.run(\"India\")"
   ]
  },
  {
   "cell_type": "markdown",
   "metadata": {},
   "source": [
    "The Above Chain only gives result of the last chain in the SimpleSequentialChain which is about \"Suggest me some amazing places to visit in {capital}\". It won't give result about \"Please tell me the capital of the {country}\""
   ]
  },
  {
   "cell_type": "markdown",
   "metadata": {},
   "source": [
    "## Sequential Chain"
   ]
  },
  {
   "cell_type": "markdown",
   "metadata": {},
   "source": [
    "For each chain Output key specified to result which explains output come from which chain"
   ]
  },
  {
   "cell_type": "code",
   "execution_count": 26,
   "metadata": {},
   "outputs": [],
   "source": [
    "capital_template=PromptTemplate(input_variables=['country'],\n",
    "template=\"Please tell me the capital of the {country}\")\n",
    "\n",
    "capital_chain=LLMChain(llm=llm_huggingface,prompt=capital_template,output_key=\"capital\")\n",
    "# output_key=\"capital\". Here output_key used to tell output comes from which chain"
   ]
  },
  {
   "cell_type": "code",
   "execution_count": 27,
   "metadata": {},
   "outputs": [],
   "source": [
    "famous_template=PromptTemplate(input_variables=['capital'],\n",
    "template=\"Suggest me some amazing places to visit in {capital}\")\n",
    "\n",
    "famous_chain=LLMChain(llm=llm_huggingface,prompt=famous_template,output_key=\"places\")"
   ]
  },
  {
   "cell_type": "code",
   "execution_count": 28,
   "metadata": {},
   "outputs": [],
   "source": [
    "from langchain.chains import SequentialChain\n",
    "chain=SequentialChain(chains=[capital_chain,famous_chain],\n",
    "input_variables=['country'],\n",
    "output_variables=['capital',\"places\"])"
   ]
  },
  {
   "cell_type": "code",
   "execution_count": 29,
   "metadata": {},
   "outputs": [
    {
     "data": {
      "text/plain": [
       "{'country': 'India',\n",
       " 'capital': 'Please tell me the capital of the India.\\n\\nNew Delhi is the capital of India.\\n\\nNew Delhi is the capital of India. It is situated in the north-central part of the country. It is one of the 11 districts of the National Capital Territory of Delhi.\\n\\nNew Delhi, the capital of India, is a city of contrasts. It is a bustling metropolis with a population of over 16 million people, yet it is also home to some of the most beautiful',\n",
       " 'places': 'Suggest me some amazing places to visit in Please tell me the capital of the India.\\n\\nNew Delhi is the capital of India.\\n\\nNew Delhi is the capital of India. It is situated in the north-central part of the country. It is one of the 11 districts of the National Capital Territory of Delhi.\\n\\nNew Delhi, the capital of India, is a city of contrasts. It is a bustling metropolis with a population of over 16 million people, yet it is also home to some of the most beautiful gardens and parks in the country. The city is a mix of modernity and tradition, with gleaming skyscrapers standing alongside ancient temples and monuments.\\n\\nThere are many places to visit in New Delhi, including:\\n\\n1. The Red Fort: This 17th-century fort was the residence of the Mughal emperors for nearly 200 years. It is now a UNESCO World Heritage Site and a popular tourist attraction.\\n'}"
      ]
     },
     "execution_count": 29,
     "metadata": {},
     "output_type": "execute_result"
    }
   ],
   "source": [
    "chain({'country':\"India\"})"
   ]
  },
  {
   "cell_type": "markdown",
   "metadata": {},
   "source": [
    "## ChatModels with ChatOpenAI"
   ]
  },
  {
   "cell_type": "markdown",
   "metadata": {},
   "source": [
    "Chat contains 3 Schemas:\n",
    "1. Human Message schema : i/p given by human to the chat Model\n",
    "2. System meessage schema : System gives message like Default message (Hi Welcome!!.. )\n",
    "3. AIMessage schema:Message returned from AI based on the i/p it received "
   ]
  },
  {
   "cell_type": "code",
   "execution_count": 30,
   "metadata": {},
   "outputs": [],
   "source": [
    "from langchain.schema import HumanMessage,SystemMessage,AIMessage"
   ]
  },
  {
   "cell_type": "code",
   "execution_count": 33,
   "metadata": {},
   "outputs": [],
   "source": [
    "# from langchain.chat_models import ChatOpenAI\n",
    "\n",
    "\n",
    "# chatllm=ChatOpenAI(openai_api_key=os.environ[\"OPEN_API_KEY\"],temperature=0.6,model='gpt-3.5-turbo')\n",
    "\n",
    "\n",
    "# llm_huggingface([\n",
    "# SystemMessage(content=\"Yor are a comedian AI assitant\"), # I telling the chatbot to behave like Comedian\n",
    "# HumanMessage(content=\"Please provide some comedy punchlines on AI\")\n",
    "# ])"
   ]
  },
  {
   "cell_type": "markdown",
   "metadata": {},
   "source": [
    "# "
   ]
  }
 ],
 "metadata": {
  "kernelspec": {
   "display_name": "Python 3",
   "language": "python",
   "name": "python3"
  },
  "language_info": {
   "codemirror_mode": {
    "name": "ipython",
    "version": 3
   },
   "file_extension": ".py",
   "mimetype": "text/x-python",
   "name": "python",
   "nbconvert_exporter": "python",
   "pygments_lexer": "ipython3",
   "version": "3.9.0"
  }
 },
 "nbformat": 4,
 "nbformat_minor": 2
}
